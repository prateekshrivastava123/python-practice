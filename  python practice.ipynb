{
 "cells": [
  {
   "cell_type": "code",
   "execution_count": 6,
   "id": "82a6ba6b",
   "metadata": {},
   "outputs": [
    {
     "name": "stdout",
     "output_type": "stream",
     "text": [
      "[1, 2, 5, 4, 8, 9]\n"
     ]
    }
   ],
   "source": [
    "#manual\n",
    "L1 = [1,2,5,4,8]\n",
    "L1.append(9)\n",
    "print(L1)"
   ]
  },
  {
   "cell_type": "code",
   "execution_count": 4,
   "id": "e2bbeaaf",
   "metadata": {},
   "outputs": [
    {
     "data": {
      "text/plain": [
       "'python'"
      ]
     },
     "execution_count": 4,
     "metadata": {},
     "output_type": "execute_result"
    }
   ],
   "source": [
    "#creatin a list using list function\n",
    "s= \"python\"\n",
    "s"
   ]
  },
  {
   "cell_type": "code",
   "execution_count": 5,
   "id": "57ad388f",
   "metadata": {},
   "outputs": [
    {
     "data": {
      "text/plain": [
       "['p', 'y', 't', 'h', 'o', 'n']"
      ]
     },
     "execution_count": 5,
     "metadata": {},
     "output_type": "execute_result"
    }
   ],
   "source": [
    "list(s)"
   ]
  },
  {
   "cell_type": "code",
   "execution_count": 9,
   "id": "9b0ce439",
   "metadata": {},
   "outputs": [
    {
     "name": "stdout",
     "output_type": "stream",
     "text": [
      "[1, 2, 3, 4, 5, 6, 7, 8, 9, 10, 11]\n"
     ]
    }
   ],
   "source": [
    "l1=[1,2,3,4,5,6,7,8,9,10]\n",
    "l1.append(11)\n",
    "print(l1)"
   ]
  },
  {
   "cell_type": "code",
   "execution_count": 10,
   "id": "1acf33fb",
   "metadata": {},
   "outputs": [
    {
     "data": {
      "text/plain": [
       "[1, 2, 3, 4, 5, 6, 7, 7.5, 8, 9, 10]"
      ]
     },
     "execution_count": 10,
     "metadata": {},
     "output_type": "execute_result"
    }
   ],
   "source": [
    "l1=[1,2,3,4,5,6,7,8,9,10]\n",
    "l1.insert(7,7.5)\n",
    "l1"
   ]
  },
  {
   "cell_type": "code",
   "execution_count": 13,
   "id": "8540d6b9",
   "metadata": {},
   "outputs": [
    {
     "data": {
      "text/plain": [
       "['cat', 5, 7.5, 10, 'dog']"
      ]
     },
     "execution_count": 13,
     "metadata": {},
     "output_type": "execute_result"
    }
   ],
   "source": [
    "l2=[\"cat\",5,7.5,10,\"dog\"]\n",
    "l2[2]\n",
    "l2"
   ]
  },
  {
   "cell_type": "code",
   "execution_count": 14,
   "id": "2bebc5ee",
   "metadata": {},
   "outputs": [
    {
     "data": {
      "text/plain": [
       "['cat', 5, 9, 10, 'dog']"
      ]
     },
     "execution_count": 14,
     "metadata": {},
     "output_type": "execute_result"
    }
   ],
   "source": [
    "l2[2]= 9\n",
    "l2"
   ]
  },
  {
   "cell_type": "code",
   "execution_count": 20,
   "id": "8f2eaffa",
   "metadata": {},
   "outputs": [
    {
     "data": {
      "text/plain": [
       "['billi', 5, 9, 10, 'dog']"
      ]
     },
     "execution_count": 20,
     "metadata": {},
     "output_type": "execute_result"
    }
   ],
   "source": [
    "l2[0]= 'billi'\n",
    "l2"
   ]
  },
  {
   "cell_type": "code",
   "execution_count": 22,
   "id": "d2c2c2d1",
   "metadata": {},
   "outputs": [
    {
     "data": {
      "text/plain": [
       "['billi', 5, 9, 10, 'kutta']"
      ]
     },
     "execution_count": 22,
     "metadata": {},
     "output_type": "execute_result"
    }
   ],
   "source": [
    "l2[4]= 'kutta'\n",
    "l2"
   ]
  },
  {
   "cell_type": "code",
   "execution_count": 24,
   "id": "5dbf85a2",
   "metadata": {},
   "outputs": [
    {
     "ename": "SyntaxError",
     "evalue": "invalid syntax (246534676.py, line 5)",
     "output_type": "error",
     "traceback": [
      "\u001b[1;36m  Cell \u001b[1;32mIn[24], line 5\u001b[1;36m\u001b[0m\n\u001b[1;33m    else:\u001b[0m\n\u001b[1;37m    ^\u001b[0m\n\u001b[1;31mSyntaxError\u001b[0m\u001b[1;31m:\u001b[0m invalid syntax\n"
     ]
    }
   ],
   "source": [
    "n = 28\n",
    "if (n % 2 == 0):\n",
    "    print(\"even number\")\n",
    "    \n",
    "    else:\n",
    "        print(\"odd number\")"
   ]
  },
  {
   "cell_type": "code",
   "execution_count": 37,
   "id": "2070be82",
   "metadata": {},
   "outputs": [
    {
     "name": "stdout",
     "output_type": "stream",
     "text": [
      "2\n",
      "36\n",
      "92\n",
      "190\n",
      "212\n",
      "237\n",
      "313\n",
      "390\n"
     ]
    }
   ],
   "source": [
    "l1 = [2,34,56,98,22,25,76,77]\n",
    "sum_value= 0\n",
    "for i in l1:\n",
    "    sum_value = sum_value + i\n",
    "    print(sum_value)"
   ]
  },
  {
   "cell_type": "code",
   "execution_count": 41,
   "id": "d075746f",
   "metadata": {},
   "outputs": [
    {
     "name": "stdout",
     "output_type": "stream",
     "text": [
      "even number\n",
      "even number\n",
      "even number\n",
      "even number\n",
      "even number\n",
      "odd number\n",
      "even number\n",
      "odd number\n"
     ]
    }
   ],
   "source": [
    "l1 = [2,34,56,98,22,25,76,77]\n",
    "for i in l1:\n",
    "    if (i % 2 == 0):\n",
    "        print(\"even number\")\n",
    "    \n",
    "    else:\n",
    "        print(\"odd number\")\n",
    "    "
   ]
  },
  {
   "cell_type": "code",
   "execution_count": 33,
   "id": "230cbc14",
   "metadata": {},
   "outputs": [
    {
     "data": {
      "text/plain": [
       "[2, 34, 56, 98, 22, 25, 76, 77]"
      ]
     },
     "execution_count": 33,
     "metadata": {},
     "output_type": "execute_result"
    }
   ],
   "source": [
    "l1"
   ]
  },
  {
   "cell_type": "code",
   "execution_count": 35,
   "id": "9d317d90",
   "metadata": {},
   "outputs": [
    {
     "name": "stdout",
     "output_type": "stream",
     "text": [
      "[1]\n",
      "[1, 2]\n",
      "[1, 2, 4]\n",
      "[1, 2, 4, 5]\n",
      "[1, 2, 4, 5, 6]\n",
      "[1, 2, 4, 5, 6, 8]\n",
      "[1, 2, 4, 5, 6, 8, 3]\n"
     ]
    }
   ],
   "source": [
    "#create a list with unique values from the above list.\n",
    "l3 = [1,2,1,4,2,5,6,8,3,1,5]\n",
    "unique_values = []\n",
    "for k in l3:\n",
    "    if (k not in unique_values):\n",
    "        unique_values.append(k)\n",
    "        print(unique_values)\n"
   ]
  },
  {
   "cell_type": "code",
   "execution_count": 39,
   "id": "b3479fde",
   "metadata": {},
   "outputs": [
    {
     "ename": "SyntaxError",
     "evalue": "invalid syntax (608783394.py, line 1)",
     "output_type": "error",
     "traceback": [
      "\u001b[1;36m  Cell \u001b[1;32mIn[39], line 1\u001b[1;36m\u001b[0m\n\u001b[1;33m    m = machine learning\u001b[0m\n\u001b[1;37m                ^\u001b[0m\n\u001b[1;31mSyntaxError\u001b[0m\u001b[1;31m:\u001b[0m invalid syntax\n"
     ]
    }
   ],
   "source": [
    "m = machine learning\n",
    "m.replace(\"machine\", \"deep\")"
   ]
  },
  {
   "cell_type": "code",
   "execution_count": 54,
   "id": "f27f12d0",
   "metadata": {},
   "outputs": [
    {
     "name": "stdout",
     "output_type": "stream",
     "text": [
      "5is a digit:True\n",
      "6is a digit:True\n",
      "7is a digit:True\n",
      "8is a digit:True\n",
      "9is a digit:True\n",
      "sis a digit:False\n"
     ]
    }
   ],
   "source": [
    "#check each character is digit or not\n",
    "s = \"56789s\"\n",
    "for i in s:\n",
    "    print(i + \"is a digit:\" + str (i.isdigit()))"
   ]
  },
  {
   "cell_type": "code",
   "execution_count": 53,
   "id": "3bd7395d",
   "metadata": {},
   "outputs": [
    {
     "name": "stdout",
     "output_type": "stream",
     "text": [
      "2\n",
      "2\n",
      "5\n",
      "10\n",
      "15\n",
      "22\n",
      "30\n",
      "39\n",
      "41\n",
      "46\n"
     ]
    }
   ],
   "source": [
    "#to print th sum of all numbers\n",
    "s = \"2035578925\"\n",
    "sum_value = 0\n",
    "for k in s:\n",
    "    sum_value= sum_value + int(k)\n",
    "    print(sum_value)"
   ]
  },
  {
   "cell_type": "code",
   "execution_count": 47,
   "id": "41b2ada9",
   "metadata": {},
   "outputs": [
    {
     "name": "stdout",
     "output_type": "stream",
     "text": [
      "2\n",
      "0\n",
      "0\n",
      "0\n",
      "0\n",
      "0\n",
      "0\n",
      "0\n",
      "0\n",
      "0\n"
     ]
    }
   ],
   "source": [
    "sum_value= 1\n",
    "for k in s:\n",
    "    sum_value= sum_value* int(k)\n",
    "    print(sum_value)"
   ]
  },
  {
   "cell_type": "code",
   "execution_count": 52,
   "id": "4ff3e8e8",
   "metadata": {},
   "outputs": [
    {
     "name": "stdout",
     "output_type": "stream",
     "text": [
      "A is a <class 'str'>\n",
      "1 is a <class 'str'>\n",
      "B is a <class 'str'>\n",
      "2 is a <class 'str'>\n",
      "C is a <class 'str'>\n",
      "3 is a <class 'str'>\n",
      "D is a <class 'str'>\n",
      "4 is a <class 'str'>\n"
     ]
    }
   ],
   "source": [
    "#check each character's datatype.\n",
    "s= \"A1B2C3D4\"\n",
    "for i in s:\n",
    "    print(i  + \" \" + \"is a\"+ \" \"  + str(type(i)))"
   ]
  },
  {
   "cell_type": "code",
   "execution_count": 3,
   "id": "ca82d798",
   "metadata": {},
   "outputs": [
    {
     "data": {
      "text/plain": [
       "['Hello', 100, [200], 'innomatics']"
      ]
     },
     "execution_count": 3,
     "metadata": {},
     "output_type": "execute_result"
    }
   ],
   "source": [
    "list = ['Hello',100,[],'innomatics']\n",
    "list\n",
    "list[-2]=[200]\n",
    "list"
   ]
  },
  {
   "cell_type": "code",
   "execution_count": 2,
   "id": "60356066",
   "metadata": {},
   "outputs": [
    {
     "data": {
      "text/plain": [
       "['Hello', 100, [200], 'innomatics']"
      ]
     },
     "execution_count": 2,
     "metadata": {},
     "output_type": "execute_result"
    }
   ],
   "source": []
  },
  {
   "cell_type": "code",
   "execution_count": null,
   "id": "176b7703",
   "metadata": {},
   "outputs": [],
   "source": []
  }
 ],
 "metadata": {
  "kernelspec": {
   "display_name": "Python 3 (ipykernel)",
   "language": "python",
   "name": "python3"
  },
  "language_info": {
   "codemirror_mode": {
    "name": "ipython",
    "version": 3
   },
   "file_extension": ".py",
   "mimetype": "text/x-python",
   "name": "python",
   "nbconvert_exporter": "python",
   "pygments_lexer": "ipython3",
   "version": "3.10.9"
  }
 },
 "nbformat": 4,
 "nbformat_minor": 5
}
